{
  "cells": [
    {
      "cell_type": "code",
      "execution_count": null,
      "id": "3ebfcf37",
      "metadata": {
        "id": "3ebfcf37",
        "outputId": "185381bf-db66-4f9f-b3b6-7fbb3a55ee75"
      },
      "outputs": [
        {
          "data": {
            "image/png": "[encoded data removed]",
            "text/plain": [
              "<Figure size 432x288 with 1 Axes>"
            ]
          },
          "metadata": {
            "needs_background": "light"
          },
          "output_type": "display_data"
        }
      ],
      "source": [
        "from neuron import h\n",
        "from neuron.units import ms, mV, um\n",
        "import matplotlib.pyplot as plt\n",
        "h.load_file(\"stdrun.hoc\")\n",
        "\n",
        "soma = h.Section(name=' soma' )\n",
        "soma.L = soma.diam = 10 * um\n",
        "soma.insert(h.hh)\n",
        "\n",
        "ic = h. IClamp(soma(0.5))\n",
        "ic.delay = 2 * ms\n",
        "ic.dur = 0.1 * ms\n",
        "ic.amp = 1\n",
        "\n",
        "t = h.Vector().record(h._ref_t)\n",
        "v = h.Vector(). record(soma (0.5)._ref_v)\n",
        "\n",
        "h.finitialize(-65 * mV)\n",
        "h.continuerun(10 * ms)\n",
        "\n",
        "plt.plot(t, v)\n",
        "plt. show()\n",
        "\n"
      ]
    }
  ],
  "metadata": {
    "kernelspec": {
      "display_name": "Python 3 (ipykernel)",
      "language": "python",
      "name": "python3"
    },
    "language_info": {
      "codemirror_mode": {
        "name": "ipython",
        "version": 3
      },
      "file_extension": ".py",
      "mimetype": "text/x-python",
      "name": "python",
      "nbconvert_exporter": "python",
      "pygments_lexer": "ipython3",
      "version": "3.9.12"
    },
    "colab": {
      "provenance": []
    }
  },
  "nbformat": 4,
  "nbformat_minor": 5
}